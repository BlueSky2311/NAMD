{
  "nbformat": 4,
  "nbformat_minor": 0,
  "metadata": {
    "colab": {
      "provenance": [],
      "authorship_tag": "ABX9TyN1J3Nnc1uLe7B2BiSP5jVj",
      "include_colab_link": true
    },
    "kernelspec": {
      "name": "python3",
      "display_name": "Python 3"
    },
    "language_info": {
      "name": "python"
    }
  },
  "cells": [
    {
      "cell_type": "markdown",
      "metadata": {
        "id": "view-in-github",
        "colab_type": "text"
      },
      "source": [
        "<a href=\"https://colab.research.google.com/github/BlueSky2311/NAMD/blob/main/CatDCD.ipynb\" target=\"_parent\"><img src=\"https://colab.research.google.com/assets/colab-badge.svg\" alt=\"Open In Colab\"/></a>"
      ]
    },
    {
      "cell_type": "code",
      "execution_count": null,
      "metadata": {
        "id": "0gotRNchJyV5"
      },
      "outputs": [],
      "source": [
        "#@title Import drive/Load google drive\n",
        "from google.colab import drive\n",
        "drive.mount('/content/drive')"
      ]
    },
    {
      "cell_type": "code",
      "source": [
        "#@title Download and Extract CatDCD\n",
        "!wget https://www.ks.uiuc.edu/Development/MDTools/catdcd/files/catdcd-4.0b.tar.gz\n",
        "!tar -zxf /content/catdcd-4.0b.tar.gz"
      ],
      "metadata": {
        "id": "CwG3xLGDJ9S2"
      },
      "execution_count": null,
      "outputs": []
    },
    {
      "cell_type": "code",
      "source": [
        "#@title Run CatDCD\n",
        "#Prints the number of frames in the two DCD files, then the total, then exits\n",
        "#!/content/LINUX/bin/catdcd4.0/catdcd -num eq01.dcd eq02.dcd\n",
        "#catdcd -o eq_all.dcd eq01.dcd eq02.dcd eq03.dcd #\tCombines eq01.dcd, eq02.dcd, and eq03.dcd into eq_all.dcd.\n",
        "!/content/LINUX/bin/catdcd4.0/catdcd -o eq_all.dcd /content/drive/MyDrive/namd/B1/B1/namd/step4_equilibration.dcd /content/drive/MyDrive/namd/B1/B1/namd/step4_equilibration_2.dcd"
      ],
      "metadata": {
        "id": "30j2bhUNWrmS"
      },
      "execution_count": null,
      "outputs": []
    }
  ]
}