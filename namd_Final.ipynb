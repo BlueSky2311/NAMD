{
  "cells": [
    {
      "cell_type": "markdown",
      "metadata": {},
      "source": [
        "<a href=\"https://colab.research.google.com/github/BlueSky2311/NAMD/blob/main/namd_Final.ipynb\" target=\"_parent\"><img src=\"https://colab.research.google.com/assets/colab-badge.svg\" alt=\"Open In Colab\"/></a>"
      ]
    },
    {
      "cell_type": "code",
      "execution_count": null,
      "metadata": {},
      "outputs": [],
      "source": [
        "#@title Load google drive\n",
        "from google.colab import drive\n",
        "drive.mount('/content/drive')"
      ]
    },
    {
      "cell_type": "code",
      "execution_count": null,
      "metadata": {},
      "outputs": [],
      "source": [
        "#@title Download and prepare the charmm-gui files\n",
        "import pandas as pd\n",
        "import os\n",
        "import shutil\n",
        "\n",
        "# Load the CSV file\n",
        "df = pd.read_csv('/content/test.csv')\n",
        "\n",
        "# Get the jobids from the first column\n",
        "jobids = df.iloc[:, 0].tolist()\n",
        "\n",
        "# Define a list to store the names of the extracted folders\n",
        "extracted_folders = []\n",
        "\n",
        "# Loop over each jobid\n",
        "for jobid in jobids:\n",
        "    # Download the CHARMM-GUI files\n",
        "    os.system(f\"curl 'https://www.charmm-gui.org/?doc=input/download&jobid={jobid}' \\\n",
        "    -H 'Accept: text/html,application/xhtml+xml,application/xml;q=0.9,image/avif,image/webp,image/apng,*/*;q=0.8,application/signed-exchange;v=b3;q=0.7' \\\n",
        "    -H 'Accept-Language: en-US,en;q=0.9' \\\n",
        "    -H 'Connection: keep-alive' \\\n",
        "    -H 'Cookie: amp_6e403e=nuofvFynNKI6uifCRx6ccn...1h3u0uikt.1h3u0uimq.0.bf.bf; PHPSESSID=p8mrpcf8vms6hin3vlfnv9kn5g; visit=ok; SL_G_WPT_TO=en; SL_GWPT_Show_Hide_tmp=1; SL_wptGlobTipTmp=1; phpbb3_8fjan_k=; phpbb3_8fjan_u=30723; phpbb3_8fjan_sid=44add4206b27f77f2636d88ff3e8a140' \\\n",
        "    -H 'DNT: 1' \\\n",
        "    -H 'Referer: https://www.charmm-gui.org/?doc=input/solution&step=4&project=solution&jobid={jobid}' \\\n",
        "    -H 'Sec-Fetch-Dest: document' \\\n",
        "    -H 'Sec-Fetch-Mode: navigate' \\\n",
        "    -H 'Sec-Fetch-Site: same-origin' \\\n",
        "    -H 'Upgrade-Insecure-Requests: 1' \\\n",
        "    -H 'User-Agent: Mozilla/5.0 (Windows NT 10.0; Win64; x64) AppleWebKit/537.36 (KHTML, like Gecko) Chrome/123.0.0.0 Safari/537.36 Edg/123.0.0.0' \\\n",
        "    -H 'sec-ch-ua: \\\"Microsoft Edge\\\";v=\\\"123\\\", \\\"Not:A-Brand\\\";v=\\\"8\\\", \\\"Chromium\\\";v=\\\"123\\\"' \\\n",
        "    -H 'sec-ch-ua-mobile: ?0' \\\n",
        "    -H 'sec-ch-ua-platform: \\\"Windows\\\"' \\\n",
        "    --compressed \\\n",
        "    --output charmm-gui.tgz\")\n",
        "    \n",
        "    # Extract the CHARMM-GUI files\n",
        "    os.system(\"tar -zxf charmm-gui.tgz\")\n",
        "\n",
        "    # Define the name of the extracted folder\n",
        "    extracted_folder = f\"charmm-gui-{jobid}\"\n",
        "\n",
        "    # Add the name of the extracted folder to the list\n",
        "    extracted_folders.append(extracted_folder)\n",
        "\n",
        "    # Remove the downloaded .tgz file\n",
        "    os.remove(\"charmm-gui.tgz\")\n",
        "\n",
        "# Move the extracted folders to /content/drive/MyDrive/namd after all the downloads and extractions are done\n",
        "for folder in extracted_folders:\n",
        "    shutil.move(folder, f\"/content/drive/MyDrive/namd/{folder}\")"
      ]
    },
    {
      "cell_type": "code",
      "execution_count": null,
      "metadata": {},
      "outputs": [],
      "source": [
        "#@title Install NAMD\n",
        "# Download the NAMD\n",
        "!wget https://www.ks.uiuc.edu/Research/namd/3.0b6/download/120834/NAMD_3.0b6_Linux-x86_64-multicore-CUDA.tar.gz\n",
        "#Extract NAMD\n",
        "!tar -zxf /content/NAMD_3.0b6_Linux-x86_64-multicore-CUDA.tar.gz"
      ]
    },
    {
      "cell_type": "code",
      "execution_count": null,
      "metadata": {},
      "outputs": [],
      "source": [
        "#@title Equilibration run\n",
        "\n",
        "# Get the list of all directories in /MyDrive/namd\n",
        "folders = os.listdir('/content/drive/MyDrive/namd')\n",
        "\n",
        "# Loop over each folder\n",
        "for folder in folders:\n",
        "    # Construct the file path\n",
        "    file_path = f\"/content/drive/MyDrive/namd/{folder}/namd\"\n",
        "    \n",
        "    # Change directory to the file path\n",
        "    os.chdir(file_path)\n",
        "    \n",
        "    # Run the NAMD simulation\n",
        "    !/content/NAMD_3.0b4_Linux-x86_64-multicore-CUDA.tar.gz +auto-provision +idlepoll +devices 0 ./step4_equilibration.inp > ./step4_equilibration.log &\n"
      ]
    },
    {
      "cell_type": "code",
      "execution_count": null,
      "metadata": {},
      "outputs": [],
      "source": [
        "#@title Simulation run\n",
        "import os\n",
        "import fileinput\n",
        "\n",
        "# Get the list of all directories in /MyDrive/namd\n",
        "folders = os.listdir('/content/drive/MyDrive/namd')\n",
        "\n",
        "# Loop over each folder\n",
        "for folder in folders:\n",
        "    # Construct the file path\n",
        "    file_path = f\"/content/drive/MyDrive/namd/{folder}/namd\"\n",
        "\n",
        "    # Change directory to the file path\n",
        "    os.chdir(file_path)\n",
        "\n",
        "    # Open the step4_equilibration.inp file\n",
        "    with fileinput.FileInput(\"step4_equilibration.inp\", inplace=True) as file:\n",
        "        # Loop through each line in the file\n",
        "        for line in file:\n",
        "            # If the line contains \"run\", replace it with the new value\n",
        "            if \"run\" in line:\n",
        "                print(f\"run                500000\")\n",
        "            else:\n",
        "                print(line.rstrip())\n",
        "\n",
        "    # Run the NAMD simulation\n",
        "    !./NAMD_3.0b4_Linux-x86_64-multicore-CUDA.tar.gz +auto-provision +idlepoll +devices 0 ./step4_equilibration.inp > ./step4_equilibration.log &"
      ]
    },
    {
      "cell_type": "code",
      "execution_count": null,
      "metadata": {},
      "outputs": [],
      "source": [
        "#@title Copy file to GDrive\n",
        "#ls /content/drive/MyDrive/namd/B1/B1/namd\n",
        "!cp *.log *.coor *.vel *.xsc *.xst *.dcd /content/drive/MyDrive"
      ]
    },
    {
      "cell_type": "markdown",
      "metadata": {},
      "source": [
        "To combine multiples .dcd files, see this notebook:https://colab.research.google.com/github/BlueSky2311/NAMD/blob/main/CatDCD.ipynb"
      ]
    },
    {
      "cell_type": "markdown",
      "metadata": {},
      "source": [
        "References:\n",
        "\n",
        "1. https://www.youtube.com/watch?v=NHb5s9zDZP8\n",
        "2. James C. Phillips, David J. Hardy, Julio D. C. Maia, John E. Stone, João V. Ribeiro, Rafael C. Bernardi, Ronak Buch, Giacomo Fiorin, Jérôme Hénin, Wei Jiang, Ryan McGreevy, Marcelo C. R. Melo, Brian Radak, Robert D. Skeel, Abhishek Singharoy, Yi Wang, Benoît Roux, Aleksei Aksimentiev, Zaida Luthey-Schulten, Laxmikant V. Kalé, Klaus Schulten, Christophe Chipot, and Emad Tajkhorshid. Scalable molecular dynamics on CPU and GPU architectures with NAMD. Journal of Chemical Physics, 153:044130, 2020. (PMC: PMC7395834)\n",
        "\n"
      ]
    }
  ],
  "metadata": {
    "accelerator": "GPU",
    "colab": {
      "include_colab_link": true,
      "provenance": []
    },
    "gpuClass": "standard",
    "kernelspec": {
      "display_name": "Python 3",
      "name": "python3"
    }
  },
  "nbformat": 4,
  "nbformat_minor": 0
}
