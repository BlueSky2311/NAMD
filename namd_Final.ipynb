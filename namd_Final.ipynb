{
  "cells": [
    {
      "cell_type": "markdown",
      "metadata": {
        "colab_type": "text",
        "id": "view-in-github"
      },
      "source": [
        "<a href=\"https://colab.research.google.com/github/BlueSky2311/NAMD/blob/main/namd_Final.ipynb\" target=\"_parent\"><img src=\"https://colab.research.google.com/assets/colab-badge.svg\" alt=\"Open In Colab\"/></a>"
      ]
    },
    {
      "cell_type": "code",
      "execution_count": null,
      "metadata": {
        "id": "QibAW-KlTSA3",
        "vscode": {
          "languageId": "python"
        }
      },
      "outputs": [],
      "source": [
        "#@title Import drive\n",
        "from google.colab import drive\n",
        "drive.mount('/content/drive')"
      ]
    },
    {
      "cell_type": "code",
      "execution_count": null,
      "metadata": {
        "id": "HS81BcMQncVW",
        "vscode": {
          "languageId": "python"
        }
      },
      "outputs": [],
      "source": [
        "#@title Download NAMD\n",
        "# Download the NAMD file\n",
        "!wget https://www.ks.uiuc.edu/Research/namd/3.0b2/download/786490/NAMD_3.0b2_Linux-x86_64-multicore-CUDA.tar.gz\n"
      ]
    },
    {
      "cell_type": "code",
      "execution_count": null,
      "metadata": {
        "id": "yBvcBmiETlru",
        "vscode": {
          "languageId": "python"
        }
      },
      "outputs": [],
      "source": [
        "#@title Extract NAMD\n",
        "!tar -zxf /content/NAMD_3.0b2_Linux-x86_64-multicore-CUDA.tar.gz"
      ]
    },
    {
      "cell_type": "code",
      "execution_count": null,
      "metadata": {
        "id": "dUZd7W5FO167",
        "vscode": {
          "languageId": "python"
        }
      },
      "outputs": [],
      "source": [
        "#@title Run NAMD\n",
        "#@markdown Change the paths to correspond to the files\n",
        "!/content/NAMD_3.0b2_Linux-x86_64-multicore-CUDA/namd3 +auto-provision +idlepoll +devices 0 /content/drive/MyDrive/namd/B1/B1/namd/step4_equilibration.inp > /content/drive/MyDrive/namd/B1/B1/namd/step4_equilibration.log &"
      ]
    },
    {
      "cell_type": "code",
      "execution_count": null,
      "metadata": {
        "vscode": {
          "languageId": "python"
        }
      },
      "outputs": [],
      "source": [
        "#@title Restart NAMD from previous stimulation\n",
        "    #@markdown upload new config file:\n",
        "from google.colab import files\n",
        "\n",
        "uploaded = files.upload()\n",
        "\n",
        "for fn in uploaded.keys():\n",
        "  print('User uploaded file \"{name}\" with length {length} bytes'.format(\n",
        "      name=fn, length=len(uploaded[fn])))\n",
        "    #@markdown Move uploaded file to folder\n",
        "!mv /content/step4_equilibration.inp /content/drive/MyDrive/namd/B1/B1/namd\n",
        "    #@markdown Restart NAMD\n",
        "!/content/NAMD_3.0b2_Linux-x86_64-multicore-CUDA/namd3 +auto-provision +idlepoll +devices 0 /content/drive/MyDrive/namd/B1/B1/namd/step4_equilibration.inp > /content/drive/MyDrive/namd/B1/B1/namd/step4_equilibration_2.log &"
      ]
    },
    {
      "cell_type": "code",
      "execution_count": null,
      "metadata": {
        "id": "3qfORCRhSMl_",
        "vscode": {
          "languageId": "python"
        }
      },
      "outputs": [],
      "source": [
        "#@title Extract CHARMM-GUI files (Completed)\n",
        "# !tar -zxf /content/drive/MyDrive/namd/test/charmm-gui.tgz\n",
        "# cp -r /content/charmm-gui-8277124303 /content/drive/MyDrive/namd/test\n",
        "# To unzip file, use !unzip\n",
        "# Example:\n",
        "#!unzip /content/drive/MyDrive/namd/BFEE.zip -d /content/drive/MyDrive/namd ## Extract file using for biding free energy estimate"
      ]
    },
    {
      "attachments": {},
      "cell_type": "markdown",
      "metadata": {},
      "source": [
        "To combine multiples .dcd files, see this notebook: "
      ]
    },
    {
      "cell_type": "markdown",
      "metadata": {
        "id": "ue3B9rbzaRPD"
      },
      "source": [
        "Trường hợp file bị lỗi ngắt giữa chừng có thể khắc phục bằng cách:\n",
        "- Tải xuống file .inp và file .xst\n",
        "- Mở file .xst bằng Notepad:\n",
        "  - Sửa output thành tên khác, ví dụ step4 -> step4_1\n",
        "  - Sửa input thành .restart\n",
        "  - Mở file .xst xem đang chạy tới step bao nhiêu, sau đó dùng số step muốn chạy trừ đi số step bị dừng. Ví dụ: chạy 500.000 step, file dừng lại ở 245.600 -> 500000-2456000 = 254400. Kéo xuoogns cuối file .inp sửa numsteps và run thành 254400"
      ]
    },
    {
      "cell_type": "markdown",
      "metadata": {
        "id": "XcfrsYo9bwZ7"
      },
      "source": [
        "References:\n",
        "\n",
        "https://www.youtube.com/watch?v=NHb5s9zDZP8&list=PLN_sQXLvUWhXjGz2c807ijngl-Hh4kp_g&index=20\n",
        "\n",
        "James C. Phillips, David J. Hardy, Julio D. C. Maia, John E. Stone, João V. Ribeiro, Rafael C. Bernardi, Ronak Buch, Giacomo Fiorin, Jérôme Hénin, Wei Jiang, Ryan McGreevy, Marcelo C. R. Melo, Brian Radak, Robert D. Skeel, Abhishek Singharoy, Yi Wang, Benoît Roux, Aleksei Aksimentiev, Zaida Luthey-Schulten, Laxmikant V. Kalé, Klaus Schulten, Christophe Chipot, and Emad Tajkhorshid. Scalable molecular dynamics on CPU and GPU architectures with NAMD. Journal of Chemical Physics, 153:044130, 2020. (PMC: PMC7395834)\n",
        "\n"
      ]
    }
  ],
  "metadata": {
    "accelerator": "GPU",
    "colab": {
      "include_colab_link": true,
      "provenance": []
    },
    "gpuClass": "standard",
    "kernelspec": {
      "display_name": "Python 3",
      "name": "python3"
    }
  },
  "nbformat": 4,
  "nbformat_minor": 0
}
