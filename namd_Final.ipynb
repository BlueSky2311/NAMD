{
  "cells": [
    {
      "cell_type": "markdown",
      "metadata": {
        "colab_type": "text",
        "id": "view-in-github"
      },
      "source": [
        "<a href=\"https://colab.research.google.com/github/BlueSky2311/NAMD/blob/main/namd_Final.ipynb\" target=\"_parent\"><img src=\"https://colab.research.google.com/assets/colab-badge.svg\" alt=\"Open In Colab\"/></a>"
      ]
    },
    {
      "attachments": {},
      "cell_type": "markdown",
      "metadata": {},
      "source": [
        "Hướng dẫn:\n",
        "!!!! Luôn chỉnh đường dẫn file mỗi khi sử dụng\n",
        "- Lưu file zip vào GDrive\n",
        "- Extract từ file zip từ GDrive (sau khi import GDrive trỏ đường dẫn file zip trong drive vào địa chỉ ở cell 2)\n",
        "- Nếu là lần đầu thì nên copy thư mục vừa giải nén vào GDrive\n",
        "- Sửa đường dẫn file input và ouput ở cell 4\n",
        "- Chạy NAMD\n",
        "\n",
        "* Trường hợp disconnect giữa chừng thì reconnect lại và copy các file cần thiết để chạy lại: *.log *.coor *.vel *.xsc *.xst *.dcd\n",
        "Mở file .xst lên xem đang chạy tới bao nhiêu, thêm dòng Firtsttimestep với giá trị = số step đang chạy mà bị dừng\n",
        "Mở file .inp: sửa tên file bin, output và numstep/run"
      ]
    },
    {
      "cell_type": "code",
      "execution_count": null,
      "metadata": {
        "id": "QibAW-KlTSA3"
      },
      "outputs": [],
      "source": [
        "#@title Load google drive\n",
        "from google.colab import drive\n",
        "drive.mount('/content/drive')"
      ]
    },
    {
      "cell_type": "code",
      "execution_count": null,
      "metadata": {},
      "outputs": [],
      "source": [
        "#@title Extract CHARMM-GUI files\n",
        "# !tar -zxf /content/drive/MyDrive/namd/charmm-gui.tgz"
      ]
    },
    {
      "cell_type": "code",
      "execution_count": null,
      "metadata": {
        "id": "HS81BcMQncVW"
      },
      "outputs": [],
      "source": [
        "#@title Install NAMD\n",
        "# Download the NAMD\n",
        "!wget https://www.ks.uiuc.edu/Research/namd/3.0b5/download/019723/NAMD_3.0b5_Linux-x86_64-multicore-CUDA.tar.gz\n",
        "#Extract NAMD\n",
        "!tar -zxf /content/NAMD_3.0b5_Linux-x86_64-multicore-CUDA.tar.gz"
      ]
    },
    {
      "cell_type": "code",
      "execution_count": null,
      "metadata": {
        "id": "dUZd7W5FO167"
      },
      "outputs": [],
      "source": [
        "#@title Run NAMD/chạy NAMD\n",
        "#Change the paths to correspond to the files/Đổi đường dẫn, ví dụ B1 -> B2 tùy vào cấu trúc muốn chạy (có thể xài Ctrl + H đổi nhanh)\n",
        "!/content/NAMD_3.0b4_Linux-x86_64-multicore-CUDA.tar.gz +auto-provision +idlepoll +devices 0 /content/drive/MyDrive/namd/B1/B1/namd/step4_equilibration.inp > /content/drive/MyDrive/namd/B1/B1/namd/step4_equilibration.log &"
      ]
    },
    {
      "cell_type": "code",
      "execution_count": null,
      "metadata": {},
      "outputs": [],
      "source": [
        "#@title Copy file to GDrive\n",
        "#ls /content/drive/MyDrive/namd/B1/B1/namd\n",
        "!cp *.log *.coor *.vel *.xsc *.xst *.dcd /content/drive/MyDrive"
      ]
    },
    {
      "attachments": {},
      "cell_type": "markdown",
      "metadata": {},
      "source": [
        "To combine multiples .dcd files, see this notebook:https://colab.research.google.com/github/BlueSky2311/NAMD/blob/main/CatDCD.ipynb"
      ]
    },
    {
      "attachments": {},
      "cell_type": "markdown",
      "metadata": {
        "id": "XcfrsYo9bwZ7"
      },
      "source": [
        "References:\n",
        "\n",
        "1. https://www.youtube.com/watch?v=NHb5s9zDZP8\n",
        "2. James C. Phillips, David J. Hardy, Julio D. C. Maia, John E. Stone, João V. Ribeiro, Rafael C. Bernardi, Ronak Buch, Giacomo Fiorin, Jérôme Hénin, Wei Jiang, Ryan McGreevy, Marcelo C. R. Melo, Brian Radak, Robert D. Skeel, Abhishek Singharoy, Yi Wang, Benoît Roux, Aleksei Aksimentiev, Zaida Luthey-Schulten, Laxmikant V. Kalé, Klaus Schulten, Christophe Chipot, and Emad Tajkhorshid. Scalable molecular dynamics on CPU and GPU architectures with NAMD. Journal of Chemical Physics, 153:044130, 2020. (PMC: PMC7395834)\n",
        "\n"
      ]
    }
  ],
  "metadata": {
    "accelerator": "GPU",
    "colab": {
      "include_colab_link": true,
      "provenance": []
    },
    "gpuClass": "standard",
    "kernelspec": {
      "display_name": "Python 3",
      "name": "python3"
    }
  },
  "nbformat": 4,
  "nbformat_minor": 0
}
