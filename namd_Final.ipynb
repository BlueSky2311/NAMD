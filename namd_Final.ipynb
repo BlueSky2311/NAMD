{
  "cells": [
    {
      "cell_type": "markdown",
      "metadata": {
        "colab_type": "text",
        "id": "view-in-github"
      },
      "source": [
        "<a href=\"https://colab.research.google.com/github/BlueSky2311/NAMD/blob/main/namd_Final.ipynb\" target=\"_parent\"><img src=\"https://colab.research.google.com/assets/colab-badge.svg\" alt=\"Open In Colab\"/></a>"
      ]
    },
    {
      "cell_type": "code",
      "execution_count": null,
      "metadata": {
        "id": "QibAW-KlTSA3",
        "vscode": {
          "languageId": "python"
        }
      },
      "outputs": [],
      "source": [
        "#@title Import drive/Load google drive\n",
        "from google.colab import drive\n",
        "drive.mount('/content/drive')"
      ]
    },
    {
      "cell_type": "code",
      "execution_count": null,
      "metadata": {
        "id": "HS81BcMQncVW",
        "vscode": {
          "languageId": "python"
        }
      },
      "outputs": [],
      "source": [
        "#@title Install NAMD\n",
        "# Download the NAMD\n",
        "!wget https://www.ks.uiuc.edu/Research/namd/3.0b2/download/786490/NAMD_3.0b2_Linux-x86_64-multicore-CUDA.tar.gz\n",
        "#Extract NAMD\n",
        "!tar -zxf /content/NAMD_3.0b2_Linux-x86_64-multicore-CUDA.tar.gz"
      ]
    },
    {
      "cell_type": "code",
      "execution_count": null,
      "metadata": {
        "id": "dUZd7W5FO167",
        "vscode": {
          "languageId": "python"
        }
      },
      "outputs": [],
      "source": [
        "#@title Run NAMD/chạy NAMD\n",
        "#Change the paths to correspond to the files/Đổi đường dẫn, ví dụ B1 -> B2 tùy vào cấu trúc muốn chạy (có thể xài Ctrl + H đổi nhanh)\n",
        "!/content/NAMD_3.0b2_Linux-x86_64-multicore-CUDA/namd3 +auto-provision +idlepoll +devices 0 /content/drive/MyDrive/namd/B1/B1/namd/step4_equilibration.inp > /content/drive/MyDrive/namd/B1/B1/namd/step4_equilibration.log &"
      ]
    },
    {
      "cell_type": "code",
      "execution_count": null,
      "metadata": {
        "vscode": {
          "languageId": "python"
        }
      },
      "outputs": [],
      "source": [
        "#@title Delete unwanted files\n",
        "!find /content/drive/MyDrive/namd/B14/B14/namd -type f -not \\( -name 'toppar' -or -name 'restraints' -or -name 'step3_input.crd' -or -name 'step3_input.pdb' -or -name 'step3_input.psf'-or -name 'step3_input.str'-or -name 'step3_input.xsc'-or -name 'step4_equilibration.coor' -or -name 'step4_equilibration.dcd'-or -name 'step4_equilibration.inp'-or -name 'step4_equilibration.restart.coor'-or -name 'step4_equilibration.restart.vel'-or -name 'step4_equilibration.restart.xsc'-or -name 'step4_equilibration.vel'-or -name 'step4_equilibration.xsc'-or -name 'step4_equilibration.xst'-or -name 'step5_production.inp' \\) -delete"
      ]
    },
    {
      "cell_type": "code",
      "execution_count": null,
      "metadata": {
        "vscode": {
          "languageId": "python"
        }
      },
      "outputs": [],
      "source": [
        "#@title Restart NAMD from previous stimulation/Chạy lại NAMD khi bị mất kết nối\n",
        "    #upload new config file:/ tải xuống file input hiện tại và chỉnh sửa sau đó chạy cell này để up và chạy lại\n",
        "from google.colab import files\n",
        "\n",
        "uploaded = files.upload()\n",
        "\n",
        "for fn in uploaded.keys():\n",
        "  print('User uploaded file \"{name}\" with length {length} bytes'.format(\n",
        "      name=fn, length=len(uploaded[fn])))\n",
        "    #Delete old config file:\n",
        "!rm /content/drive/MyDrive/namd/B1/B1/namd/step4_equilibration.inp\n",
        "    #Move uploaded file to folder/chuyển file input vừa up vào thư mục tương ứng (nhớ đổi tên thư mục trong lệnh)\n",
        "!mv /content/step4_equilibration.inp /content/drive/MyDrive/namd/B1/B1/namd\n",
        "    #Restart NAMD (chạy lại NAMD, nhớ đổi tên B1, file .log có thể đặt tên bất kỳ, do khi chạy xong nó cũng tự mất - chỉ dùng để theo dõi khi đang chạy, hoặc xem lỗi)\n",
        "!/content/NAMD_3.0b2_Linux-x86_64-multicore-CUDA/namd3 +auto-provision +idlepoll +devices 0 /content/drive/MyDrive/namd/B1/B1/namd/step4_equilibration.inp > /content/drive/MyDrive/namd/B1/B1/namd/step4_equilibration_2.log &"
      ]
    },
    {
      "attachments": {},
      "cell_type": "markdown",
      "metadata": {},
      "source": [
        "Biding Free Energy Estimate (BFEE) by NAMD / Phần bên dưới dùng để chạy file tính toán nllk"
      ]
    },
    {
      "cell_type": "code",
      "execution_count": null,
      "metadata": {
        "vscode": {
          "languageId": "python"
        }
      },
      "outputs": [],
      "source": [
        "#@title Prepare BFEE input files (Completed)\n",
        "\n",
        "# Prepare BFEE input files in local PC, zip it and upload to GDrive/tải kết quả ở trước trước về, chạy VMD tạo file input, zip và upload lại vào GDrive\n",
        "#from google.colab import files\n",
        "\n",
        "#uploaded = files.upload()\n",
        "#Extract to working directory/ Giải nén vào thư mục cấu trúc tương ứng để chạy mô phỏng\n",
        "#!unzip /content/BFEE.zip -d /content/drive/MyDrive/namd/B1/B1/namd/"
      ]
    },
    {
      "cell_type": "code",
      "execution_count": null,
      "metadata": {
        "vscode": {
          "languageId": "python"
        }
      },
      "outputs": [],
      "source": [
        "#@title Run BFEE stimulations\n",
        "!/content/NAMD_3.0b2_Linux-x86_64-multicore-CUDA/namd3 +auto-provision +idlepoll +devices 0 /content/drive/MyDrive/namd/B1/B1/namd/BFEE/001_RMSD_bound/abf.conf > /content/drive/MyDrive/namd/B1/B1/namd/BFEE/001_RMSD_bound/abf.log &\n",
        "#Don't forget to edit numsteps in abf.conf to 500000 !!!!/ Tải xuống và đổi số numsteps ở file abf.conf, lặp lại 8 lần tương ứng 8 thư mục 001 -> 008"
      ]
    },
    {
      "cell_type": "code",
      "execution_count": null,
      "metadata": {
        "id": "3qfORCRhSMl_",
        "vscode": {
          "languageId": "python"
        }
      },
      "outputs": [],
      "source": [
        "#@title Extract CHARMM-GUI files (Completed)\n",
        "# !tar -zxf /content/drive/MyDrive/namd/test/charmm-gui.tgz\n",
        "# cp -r /content/charmm-gui-8277124303 /content/drive/MyDrive/namd/test\n",
        "# To unzip file, use !unzip\n",
        "# Example:\n",
        "#!unzip /content/drive/MyDrive/namd/BFEE.zip -d /content/drive/MyDrive/namd ## Extract file using for biding free energy estimate"
      ]
    },
    {
      "attachments": {},
      "cell_type": "markdown",
      "metadata": {},
      "source": [
        "To combine multiples .dcd files, see this notebook:https://colab.research.google.com/github/BlueSky2311/NAMD/blob/main/CatDCD.ipynb"
      ]
    },
    {
      "attachments": {},
      "cell_type": "markdown",
      "metadata": {
        "id": "XcfrsYo9bwZ7"
      },
      "source": [
        "References:\n",
        "\n",
        "1. https://www.youtube.com/watch?v=NHb5s9zDZP8\n",
        "2. James C. Phillips, David J. Hardy, Julio D. C. Maia, John E. Stone, João V. Ribeiro, Rafael C. Bernardi, Ronak Buch, Giacomo Fiorin, Jérôme Hénin, Wei Jiang, Ryan McGreevy, Marcelo C. R. Melo, Brian Radak, Robert D. Skeel, Abhishek Singharoy, Yi Wang, Benoît Roux, Aleksei Aksimentiev, Zaida Luthey-Schulten, Laxmikant V. Kalé, Klaus Schulten, Christophe Chipot, and Emad Tajkhorshid. Scalable molecular dynamics on CPU and GPU architectures with NAMD. Journal of Chemical Physics, 153:044130, 2020. (PMC: PMC7395834)\n",
        "\n"
      ]
    }
  ],
  "metadata": {
    "accelerator": "GPU",
    "colab": {
      "include_colab_link": true,
      "provenance": []
    },
    "gpuClass": "standard",
    "kernelspec": {
      "display_name": "Python 3",
      "name": "python3"
    }
  },
  "nbformat": 4,
  "nbformat_minor": 0
}
