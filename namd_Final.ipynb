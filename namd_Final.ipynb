{
  "nbformat": 4,
  "nbformat_minor": 0,
  "metadata": {
    "colab": {
      "provenance": [],
      "include_colab_link": true
    },
    "kernelspec": {
      "name": "python3",
      "display_name": "Python 3"
    },
    "accelerator": "GPU",
    "gpuClass": "standard"
  },
  "cells": [
    {
      "cell_type": "markdown",
      "metadata": {
        "id": "view-in-github",
        "colab_type": "text"
      },
      "source": [
        "<a href=\"https://colab.research.google.com/github/BlueSky2311/NAMD/blob/main/namd_Final.ipynb\" target=\"_parent\"><img src=\"https://colab.research.google.com/assets/colab-badge.svg\" alt=\"Open In Colab\"/></a>"
      ]
    },
    {
      "cell_type": "code",
      "source": [
        "#@title Mount drive\n",
        "from google.colab import drive\n",
        "drive.mount('/content/drive')"
      ],
      "metadata": {
        "id": "QibAW-KlTSA3"
      },
      "execution_count": null,
      "outputs": []
    },
    {
      "cell_type": "code",
      "metadata": {
        "id": "HS81BcMQncVW"
      },
      "source": [
        "#@title Download NAMD\n",
        "# Download the NAMD file\n",
        "!wget https://www.ks.uiuc.edu/Research/namd/3.0b2/download/786490/NAMD_3.0b2_Linux-x86_64-multicore-CUDA.tar.gz\n"
      ],
      "execution_count": null,
      "outputs": []
    },
    {
      "cell_type": "code",
      "source": [
        "#@title Extract NAMD\n",
        "!tar -zxf /content/NAMD_3.0b2_Linux-x86_64-multicore-CUDA.tar.gz"
      ],
      "metadata": {
        "id": "yBvcBmiETlru"
      },
      "execution_count": null,
      "outputs": []
    },
    {
      "cell_type": "code",
      "source": [
        "#@title Extract CHARMM-GUI files\n",
        "# !tar -zxf /content/drive/MyDrive/namd/test/charmm-gui.tgz\n",
        "# cp -r /content/charmm-gui-8277124303 /content/drive/MyDrive/namd/test\n",
        "# To unzip file, use !unzip\n",
        "# Example:\n",
        "#!unzip /content/drive/MyDrive/namd/BFEE.zip -d /content/drive/MyDrive/namd ## Extract file using for biding free energy estimate"
      ],
      "metadata": {
        "id": "3qfORCRhSMl_"
      },
      "execution_count": null,
      "outputs": []
    },
    {
      "cell_type": "code",
      "metadata": {
        "id": "dUZd7W5FO167"
      },
      "source": [
        "#@title Run NAMD\n",
        "# run NAMD. Change the paths to correspond to the files\n",
        "!/content/NAMD_3.0b2_Linux-x86_64-multicore-CUDA/namd3 +auto-provision +idlepoll +devices 0 /content/drive/MyDrive/namd/B1/B1/namd/step4_equilibration.inp > /content/drive/MyDrive/namd/B1/B1/namd/step4_equilibration.out"
      ],
      "execution_count": null,
      "outputs": []
    },
    {
      "cell_type": "markdown",
      "source": [
        "Trường hợp file bị lỗi ngắt giữa chừng có thể khắc phục bằng cách:\n",
        "- Tải xuống file .inp và file log\n",
        "- Mở file .inp bằng Notepad:\n",
        "  - Sửa output thành tên khác, ví dụ step4 -> step 5\n",
        "  - Sửa input thành .restart\n",
        "  - Mở file log xem đang chạy tới step bao nhiêu, sau đó dùng số step muốn chạy trừ đi số step bị dừng. Ví dụ: chạy 500.000 step, file dừng lại ở 245.600 -> 500000-2456000 = 254400. Kéo xuoogns cuối file .inp sửa numsteps và run thành 254400"
      ],
      "metadata": {
        "id": "ue3B9rbzaRPD"
      }
    },
    {
      "cell_type": "markdown",
      "source": [
        "References:\n",
        "\n",
        "https://www.youtube.com/watch?v=NHb5s9zDZP8&list=PLN_sQXLvUWhXjGz2c807ijngl-Hh4kp_g&index=20\n",
        "\n",
        "James C. Phillips, David J. Hardy, Julio D. C. Maia, John E. Stone, João V. Ribeiro, Rafael C. Bernardi, Ronak Buch, Giacomo Fiorin, Jérôme Hénin, Wei Jiang, Ryan McGreevy, Marcelo C. R. Melo, Brian Radak, Robert D. Skeel, Abhishek Singharoy, Yi Wang, Benoît Roux, Aleksei Aksimentiev, Zaida Luthey-Schulten, Laxmikant V. Kalé, Klaus Schulten, Christophe Chipot, and Emad Tajkhorshid. Scalable molecular dynamics on CPU and GPU architectures with NAMD. Journal of Chemical Physics, 153:044130, 2020. (PMC: PMC7395834)\n",
        "\n"
      ],
      "metadata": {
        "id": "XcfrsYo9bwZ7"
      }
    }
  ]
}
