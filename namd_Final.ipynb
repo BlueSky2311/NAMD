{
  "cells": [
    {
      "cell_type": "markdown",
      "metadata": {
        "colab_type": "text",
        "id": "view-in-github"
      },
      "source": [
        "<a href=\"https://colab.research.google.com/github/BlueSky2311/NAMD/blob/main/namd_Final.ipynb\" target=\"_parent\"><img src=\"https://colab.research.google.com/assets/colab-badge.svg\" alt=\"Open In Colab\"/></a>"
      ]
    },
    {
      "attachments": {},
      "cell_type": "markdown",
      "metadata": {},
      "source": [
        "Hướng dẫn:\n",
        "!!!! Luôn chỉnh đường dẫn file mỗi khi sử dụng\n",
        "- Lưu file zip vào GDrive\n",
        "- Extract từ file zip từ GDrive (sau khi import GDrive trỏ đường dẫn file zip trong drive vào địa chỉ ở cell 2)\n",
        "- Nếu là lần đầu thì nên copy thư mục vừa giải nén vào GDrive\n",
        "- Sửa đường dẫn file input và ouput ở cell 4\n",
        "- Chạy NAMD\n",
        "\n",
        "* Trường hợp disconnect giữa chừng thì reconnect lại và copy các file cần thiết để chạy lại: *.log *.coor *.vel *.xsc *.xst *.dcd\n",
        "Mở file .xst lên xem đang chạy tới bao nhiêu, thêm dòng Firtsttimestep với giá trị = số step đang chạy mà bị dừng\n",
        "Mở file .inp: sửa tên file bin, output và numstep/run"
      ]
    },
    {
      "cell_type": "code",
      "execution_count": null,
      "metadata": {
        "id": "QibAW-KlTSA3"
      },
      "outputs": [],
      "source": [
        "#@title Load google drive\n",
        "from google.colab import drive\n",
        "drive.mount('/content/drive')"
      ]
    },
    {
      "cell_type": "code",
      "execution_count": null,
      "metadata": {},
      "outputs": [],
      "source": [
        "#@title Download and prepare the charmm-gui files\n",
        "import pandas as pd\n",
        "import os\n",
        "import shutil\n",
        "\n",
        "# Load the CSV file\n",
        "df = pd.read_csv('/path/to/your/file.csv')\n",
        "\n",
        "# Get the jobids from the first column\n",
        "jobids = df.iloc[:, 0].tolist()\n",
        "\n",
        "# Define a list to store the names of the extracted folders\n",
        "extracted_folders = []\n",
        "\n",
        "# Loop over each jobid\n",
        "for jobid in jobids:\n",
        "    # Download the CHARMM-GUI files\n",
        "    !curl 'https://www.charmm-gui.org/?doc=input/download&jobid={jobid}&compress_only=1' \\\n",
        "    -H 'Accept: */*' \\\n",
        "    -H 'Accept-Language: en-US,en;q=0.9' \\\n",
        "    -H 'Connection: keep-alive' \\\n",
        "    -H 'Cookie: phpbb3_8fjan_k=; amp_6e403e=nuofvFynNKI6uifCRx6ccn...1h3u0uikt.1h3u0uimq.0.bf.bf; PHPSESSID=973jb8lvtida0ifteedv4eusdt; phpbb3_8fjan_u=30723; phpbb3_8fjan_sid=641f1aee61ee298947da31badb25a25c; visit=ok; SL_G_WPT_TO=en; SL_GWPT_Show_Hide_tmp=1; SL_wptGlobTipTmp=1' \\\n",
        "    -H 'DNT: 1' \\\n",
        "    -H 'Referer: https://www.charmm-gui.org/?doc=input/solution&step=4&project=solution&jobid={jobid}' \\\n",
        "    -H 'Sec-Fetch-Dest: empty' \\\n",
        "    -H 'Sec-Fetch-Mode: cors' \\\n",
        "    -H 'Sec-Fetch-Site: same-origin' \\\n",
        "    -H 'User-Agent: Mozilla/5.0 (Windows NT 10.0; Win64; x64) AppleWebKit/537.36 (KHTML, like Gecko) Chrome/123.0.0.0 Safari/537.36 Edg/123.0.0.0' \\\n",
        "    -H 'sec-ch-ua: \"Microsoft Edge\";v=\"123\", \"Not:A-Brand\";v=\"8\", \"Chromium\";v=\"123\"' \\\n",
        "    -H 'sec-ch-ua-mobile: ?0' \\\n",
        "    -H 'sec-ch-ua-platform: \"Windows\"' -o charmm-gui.tgz\n",
        "\n",
        "    # Extract the CHARMM-GUI files\n",
        "    !tar -zxf charmm-gui.tgz\n",
        "\n",
        "    # Define the name of the extracted folder\n",
        "    extracted_folder = f\"charmm-gui-{jobid}\"\n",
        "\n",
        "    # Add the name of the extracted folder to the list\n",
        "    extracted_folders.append(extracted_folder)\n",
        "\n",
        "    # Remove the downloaded .tgz file\n",
        "    os.remove(\"charmm-gui.tgz\")\n",
        "\n",
        "# Move the extracted folders to /content/drive/MyDrive/namd after all the downloads and extractions are done\n",
        "for folder in extracted_folders:\n",
        "    shutil.move(folder, f\"/content/drive/MyDrive/namd/{folder}\")\n"
      ]
    },
    {
      "cell_type": "code",
      "execution_count": null,
      "metadata": {
        "id": "HS81BcMQncVW"
      },
      "outputs": [],
      "source": [
        "#@title Install NAMD\n",
        "# Download the NAMD\n",
        "!wget https://www.ks.uiuc.edu/Research/namd/3.0b5/download/019723/NAMD_3.0b5_Linux-x86_64-multicore-CUDA.tar.gz\n",
        "#Extract NAMD\n",
        "!tar -zxf /content/NAMD_3.0b5_Linux-x86_64-multicore-CUDA.tar.gz"
      ]
    },
    {
      "cell_type": "code",
      "execution_count": null,
      "metadata": {
        "id": "dUZd7W5FO167"
      },
      "outputs": [],
      "source": [
        "#@title Run NAMD\n",
        "\n",
        "# Get the list of all directories in /MyDrive/namd\n",
        "folders = os.listdir('/content/drive/MyDrive/namd')\n",
        "\n",
        "# Loop over each folder\n",
        "for folder in folders:\n",
        "    # Construct the file path\n",
        "    file_path = f\"/content/drive/MyDrive/namd/{folder}/{folder}/namd/step4_equilibration.inp\"\n",
        "    \n",
        "    # Run the NAMD simulation\n",
        "    !/content/NAMD_3.0b4_Linux-x86_64-multicore-CUDA.tar.gz +auto-provision +idlepoll +devices 0 {file_path} > /content/drive/MyDrive/namd/{folder}/{folder}/namd/step4_equilibration.log &\n"
      ]
    },
    {
      "cell_type": "code",
      "execution_count": null,
      "metadata": {},
      "outputs": [],
      "source": [
        "#@title Copy file to GDrive\n",
        "#ls /content/drive/MyDrive/namd/B1/B1/namd\n",
        "!cp *.log *.coor *.vel *.xsc *.xst *.dcd /content/drive/MyDrive"
      ]
    },
    {
      "attachments": {},
      "cell_type": "markdown",
      "metadata": {},
      "source": [
        "To combine multiples .dcd files, see this notebook:https://colab.research.google.com/github/BlueSky2311/NAMD/blob/main/CatDCD.ipynb"
      ]
    },
    {
      "attachments": {},
      "cell_type": "markdown",
      "metadata": {
        "id": "XcfrsYo9bwZ7"
      },
      "source": [
        "References:\n",
        "\n",
        "1. https://www.youtube.com/watch?v=NHb5s9zDZP8\n",
        "2. James C. Phillips, David J. Hardy, Julio D. C. Maia, John E. Stone, João V. Ribeiro, Rafael C. Bernardi, Ronak Buch, Giacomo Fiorin, Jérôme Hénin, Wei Jiang, Ryan McGreevy, Marcelo C. R. Melo, Brian Radak, Robert D. Skeel, Abhishek Singharoy, Yi Wang, Benoît Roux, Aleksei Aksimentiev, Zaida Luthey-Schulten, Laxmikant V. Kalé, Klaus Schulten, Christophe Chipot, and Emad Tajkhorshid. Scalable molecular dynamics on CPU and GPU architectures with NAMD. Journal of Chemical Physics, 153:044130, 2020. (PMC: PMC7395834)\n",
        "\n"
      ]
    }
  ],
  "metadata": {
    "accelerator": "GPU",
    "colab": {
      "include_colab_link": true,
      "provenance": []
    },
    "gpuClass": "standard",
    "kernelspec": {
      "display_name": "Python 3",
      "name": "python3"
    }
  },
  "nbformat": 4,
  "nbformat_minor": 0
}
